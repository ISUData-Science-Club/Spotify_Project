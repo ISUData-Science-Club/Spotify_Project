{
 "cells": [
  {
   "cell_type": "markdown",
   "metadata": {},
   "source": [
    "# Spotify Project"
   ]
  },
  {
   "cell_type": "markdown",
   "metadata": {},
   "source": [
    "## Setup\n",
    "#### The setup portion of this project deals with the following concepts:\n",
    "<li> Api Calls with Python </li>\n",
    "<li> Data Manipulation with Python </li>\n",
    "<li> Web Crawling with Selenium </li>\n",
    "<li> Pandas DataFrame Generation </li>"
   ]
  },
  {
   "cell_type": "code",
   "execution_count": 7,
   "metadata": {},
   "outputs": [],
   "source": [
    "import requests as rq # tool to make api calls\n",
    "import pandas as pd # data processing\n",
    "import base64 # to encoded the credentials for api calls\n",
    "import json # for responses to api calls\n",
    "from urllib.parse import quote # for url encoding\n",
    "from datetime import datetime, timedelta # constructing urls\n",
    "pd.set_option(\"display.max_columns\", 100)"
   ]
  },
  {
   "cell_type": "code",
   "execution_count": 3,
   "metadata": {},
   "outputs": [],
   "source": [
    "url = 'https://accounts.spotify.com/api/token' # api call to recieve token\n",
    "clientID = '67158a9f3e804254bfe2e64fb370b549' # app id that is created with spotify \n",
    "clientS = 'c875dc2bdf7d4cd2ae696b7ff434b502' # secret for app that is registered\n",
    "\n",
    "# need to get a token from spotify to validate our api calls\n",
    "# much easier to create a function to do this, since we may be \n",
    "# using this often\n",
    "def get_token(clientID,clientS,url):\n",
    "    newS = clientID + ':' + clientS\n",
    "    newS = base64.b64encode(newS.encode(\"utf-8\"))\n",
    "    newS64 = str(newS, \"utf-8\")\n",
    "    headers = {\n",
    "        'Authorization' : 'Basic ' + newS64\n",
    "    }\n",
    "    data = {\n",
    "        'grant_type' : 'client_credentials'\n",
    "    }\n",
    "    resp = rq.post(url, headers=headers, data=data)\n",
    "    token = resp.json()['access_token']\n",
    "    return(token)"
   ]
  },
  {
   "cell_type": "code",
   "execution_count": 4,
   "metadata": {},
   "outputs": [
    {
     "data": {
      "text/plain": [
       "'BQBWJuQKK2_UCe4_oaAIVwGR7fODLY-MBtiiGws58-rVk0XIWkGYyyr-AleOdawWEkFhQrmccqM115fROoQ'"
      ]
     },
     "execution_count": 4,
     "metadata": {},
     "output_type": "execute_result"
    }
   ],
   "source": [
    "token = get_token(clientID,clientS,url)\n",
    "token"
   ]
  },
  {
   "cell_type": "code",
   "execution_count": null,
   "metadata": {},
   "outputs": [],
   "source": [
    "# In order to get song information, we need to obtain a song id\n",
    "# this is only done by using spotify's search api, let's create\n",
    "# a function to search a song with spotify's api and return the id\n",
    "# of that song\n",
    "# 'https://api.spotify.com/v1/search?q={}%20artist:{}&type=track'(api endpoint that we are filling with variables)\n",
    "def get_song_id(songName,artist,token):\n",
    "    "
   ]
  },
  {
   "cell_type": "code",
   "execution_count": null,
   "metadata": {},
   "outputs": [],
   "source": [
    "songID = get_song_id(\"Circles\",\"Post Malone\",token)\n",
    "songID"
   ]
  },
  {
   "cell_type": "markdown",
   "metadata": {},
   "source": [
    "### Next Steps\n",
    "We now have a way to use spotify's api and find id of songs based off of their names. This is a great place for us because now we just need to get a list of popular songs. To do that, we will be using a good friend of ours SELENIUM!!!"
   ]
  },
  {
   "cell_type": "code",
   "execution_count": 1,
   "metadata": {},
   "outputs": [],
   "source": [
    "from selenium import webdriver\n",
    "import chromedriver_binary"
   ]
  },
  {
   "cell_type": "markdown",
   "metadata": {},
   "source": [
    "https://spotifycharts.com/regional/us/weekly/2019-09-20--2019-09-27"
   ]
  },
  {
   "cell_type": "code",
   "execution_count": null,
   "metadata": {},
   "outputs": [],
   "source": [
    "# we need a way to retrieve the song information off of the page\n",
    "# we can use a function to pass in a list of web elements and extract\n",
    "# their necessary data\n",
    "# this function will be used within the function below\n",
    "def get_all_songs(webEL):"
   ]
  },
  {
   "cell_type": "code",
   "execution_count": null,
   "metadata": {},
   "outputs": [],
   "source": [
    "# With the function above, we can get all song information on a single\n",
    "# page. But, we are going to need much more songs in order to train a \n",
    "# model on it, so this function iterates through mulitple pages and\n",
    "# calls the above function to extract the songs. Once the songs are \n",
    "# extracted, we navigate to a new page and repeat the process. It returns \n",
    "# a list of all song names and artists\n",
    "def get_page_songs():"
   ]
  },
  {
   "cell_type": "markdown",
   "metadata": {},
   "source": [
    "https://spotifycharts.com/regional/us/weekly/2019-09-20--2019-09-27\n",
    "\n",
    "The trailing date string is what the function below creates ^^"
   ]
  },
  {
   "cell_type": "code",
   "execution_count": null,
   "metadata": {},
   "outputs": [],
   "source": [
    "# this function generates a string for the url and returns the\n",
    "# start date so we can use this function in a loop\n",
    "def construct_date_string(endDate):\n",
    "    startDate = endDate - timedelta(days=7)\n",
    "    endString = datetime.strftime(endDate,\"%Y-%m-%d\")\n",
    "    startString = datetime.strftime(startDate,\"%Y-%m-%d\")\n",
    "    finalString = startString + '--' + endString\n",
    "    return(startDate,finalString)"
   ]
  },
  {
   "cell_type": "code",
   "execution_count": null,
   "metadata": {},
   "outputs": [],
   "source": [
    "# After all the song names and artists are saved into a list\n",
    "# we can call another api endpoint to retrieve information about\n",
    "# the song(more features to it). We can use our \"get_song_id\" function \n",
    "# to get the songs id that we will need for calling the api\n",
    "def build_data(all_songs,token):"
   ]
  },
  {
   "cell_type": "code",
   "execution_count": null,
   "metadata": {},
   "outputs": [],
   "source": [
    "all_songs = get_page_songs()"
   ]
  },
  {
   "cell_type": "code",
   "execution_count": null,
   "metadata": {},
   "outputs": [],
   "source": [
    "DF = build_data(all_songs[:10],token) # doing the first 10 since we have around 4000 and it would take too long"
   ]
  },
  {
   "cell_type": "markdown",
   "metadata": {},
   "source": [
    "### Retrieving Label\n",
    "In order to actually predict the popularity of the songs, the data needs a value to train on. This program will use the popularity of songs as a prediciton value. There is an API call to spotify that we can use to retrieve the popularity of those songs. It is a number between 0 and 100. After we get the popularity values of each songs, we will append the data to our existing data frame. Then we can do some machine learning!!"
   ]
  },
  {
   "cell_type": "code",
   "execution_count": 5,
   "metadata": {},
   "outputs": [],
   "source": [
    "# load the data into a dataframe"
   ]
  },
  {
   "cell_type": "code",
   "execution_count": null,
   "metadata": {},
   "outputs": [],
   "source": [
    "# get the url and headers for api request\n",
    "url = \"https://api.spotify.com/v1/tracks/11dFghVXANMlKmJXsNCbNl\" # ending is the song ID\n",
    "headers = {\n",
    "        'Authorization' : 'Bearer '+token # still need to use our token\n",
    "}"
   ]
  },
  {
   "cell_type": "code",
   "execution_count": null,
   "metadata": {},
   "outputs": [],
   "source": [
    "# make request to the url"
   ]
  },
  {
   "cell_type": "code",
   "execution_count": null,
   "metadata": {},
   "outputs": [],
   "source": [
    "# show the popularity of the song we recieved"
   ]
  },
  {
   "cell_type": "code",
   "execution_count": null,
   "metadata": {},
   "outputs": [],
   "source": [
    "# create function with the input being the song ID and the output being the popularity of that song"
   ]
  },
  {
   "cell_type": "code",
   "execution_count": null,
   "metadata": {},
   "outputs": [],
   "source": [
    "# use the function above to get every popularity rating of the songs in our data\n",
    "# save all the values into a list"
   ]
  },
  {
   "cell_type": "code",
   "execution_count": null,
   "metadata": {},
   "outputs": [],
   "source": [
    "# append the list we just created to the DataFrame that has all our data within it"
   ]
  },
  {
   "cell_type": "markdown",
   "metadata": {},
   "source": [
    "After these steps we are ready to use the data for some machine learning!!!"
   ]
  },
  {
   "cell_type": "markdown",
   "metadata": {},
   "source": [
    "### Machine Learning Concepts\n",
    "Now that we are getting into the machine learning part of the project, let's go over some important topics of machine learning that we need to think about"
   ]
  },
  {
   "cell_type": "code",
   "execution_count": 8,
   "metadata": {},
   "outputs": [
    {
     "data": {
      "text/html": [
       "<div>\n",
       "<style scoped>\n",
       "    .dataframe tbody tr th:only-of-type {\n",
       "        vertical-align: middle;\n",
       "    }\n",
       "\n",
       "    .dataframe tbody tr th {\n",
       "        vertical-align: top;\n",
       "    }\n",
       "\n",
       "    .dataframe thead th {\n",
       "        text-align: right;\n",
       "    }\n",
       "</style>\n",
       "<table border=\"1\" class=\"dataframe\">\n",
       "  <thead>\n",
       "    <tr style=\"text-align: right;\">\n",
       "      <th></th>\n",
       "      <th>Unnamed: 0</th>\n",
       "      <th>Song Name</th>\n",
       "      <th>Artist</th>\n",
       "      <th>danceability</th>\n",
       "      <th>energy</th>\n",
       "      <th>key</th>\n",
       "      <th>loudness</th>\n",
       "      <th>mode</th>\n",
       "      <th>speechiness</th>\n",
       "      <th>acousticness</th>\n",
       "      <th>instrumentalness</th>\n",
       "      <th>liveness</th>\n",
       "      <th>valence</th>\n",
       "      <th>tempo</th>\n",
       "      <th>type</th>\n",
       "      <th>id</th>\n",
       "      <th>uri</th>\n",
       "      <th>track_href</th>\n",
       "      <th>analysis_url</th>\n",
       "      <th>duration_ms</th>\n",
       "      <th>time_signature</th>\n",
       "    </tr>\n",
       "  </thead>\n",
       "  <tbody>\n",
       "    <tr>\n",
       "      <td>0</td>\n",
       "      <td>0</td>\n",
       "      <td>Circles</td>\n",
       "      <td>Post Malone</td>\n",
       "      <td>0.695</td>\n",
       "      <td>0.762</td>\n",
       "      <td>0.0</td>\n",
       "      <td>-3.497</td>\n",
       "      <td>1.0</td>\n",
       "      <td>0.0395</td>\n",
       "      <td>0.1920</td>\n",
       "      <td>0.002440</td>\n",
       "      <td>0.0863</td>\n",
       "      <td>0.553</td>\n",
       "      <td>120.042</td>\n",
       "      <td>audio_features</td>\n",
       "      <td>21jGcNKet2qwijlDFuPiPb</td>\n",
       "      <td>spotify:track:21jGcNKet2qwijlDFuPiPb</td>\n",
       "      <td>https://api.spotify.com/v1/tracks/21jGcNKet2qw...</td>\n",
       "      <td>https://api.spotify.com/v1/audio-analysis/21jG...</td>\n",
       "      <td>215280.0</td>\n",
       "      <td>4.0</td>\n",
       "    </tr>\n",
       "    <tr>\n",
       "      <td>1</td>\n",
       "      <td>1</td>\n",
       "      <td>Ransom</td>\n",
       "      <td>Lil Tecca</td>\n",
       "      <td>0.745</td>\n",
       "      <td>0.642</td>\n",
       "      <td>7.0</td>\n",
       "      <td>-6.257</td>\n",
       "      <td>0.0</td>\n",
       "      <td>0.2870</td>\n",
       "      <td>0.0204</td>\n",
       "      <td>0.000000</td>\n",
       "      <td>0.0658</td>\n",
       "      <td>0.226</td>\n",
       "      <td>179.974</td>\n",
       "      <td>audio_features</td>\n",
       "      <td>1lOe9qE0vR9zwWQAOk6CoO</td>\n",
       "      <td>spotify:track:1lOe9qE0vR9zwWQAOk6CoO</td>\n",
       "      <td>https://api.spotify.com/v1/tracks/1lOe9qE0vR9z...</td>\n",
       "      <td>https://api.spotify.com/v1/audio-analysis/1lOe...</td>\n",
       "      <td>131240.0</td>\n",
       "      <td>4.0</td>\n",
       "    </tr>\n",
       "    <tr>\n",
       "      <td>2</td>\n",
       "      <td>2</td>\n",
       "      <td>BOP</td>\n",
       "      <td>DaBaby</td>\n",
       "      <td>0.769</td>\n",
       "      <td>0.787</td>\n",
       "      <td>11.0</td>\n",
       "      <td>-3.909</td>\n",
       "      <td>1.0</td>\n",
       "      <td>0.3670</td>\n",
       "      <td>0.1890</td>\n",
       "      <td>0.000000</td>\n",
       "      <td>0.1290</td>\n",
       "      <td>0.836</td>\n",
       "      <td>126.770</td>\n",
       "      <td>audio_features</td>\n",
       "      <td>6Ozh9Ok6h4Oi1wUSLtBseN</td>\n",
       "      <td>spotify:track:6Ozh9Ok6h4Oi1wUSLtBseN</td>\n",
       "      <td>https://api.spotify.com/v1/tracks/6Ozh9Ok6h4Oi...</td>\n",
       "      <td>https://api.spotify.com/v1/audio-analysis/6Ozh...</td>\n",
       "      <td>159715.0</td>\n",
       "      <td>4.0</td>\n",
       "    </tr>\n",
       "    <tr>\n",
       "      <td>3</td>\n",
       "      <td>3</td>\n",
       "      <td>Truth Hurts</td>\n",
       "      <td>Lizzo</td>\n",
       "      <td>0.715</td>\n",
       "      <td>0.624</td>\n",
       "      <td>4.0</td>\n",
       "      <td>-3.046</td>\n",
       "      <td>0.0</td>\n",
       "      <td>0.1140</td>\n",
       "      <td>0.1100</td>\n",
       "      <td>0.000000</td>\n",
       "      <td>0.1230</td>\n",
       "      <td>0.412</td>\n",
       "      <td>158.087</td>\n",
       "      <td>audio_features</td>\n",
       "      <td>5qmq61DAAOUaW8AUo8xKhh</td>\n",
       "      <td>spotify:track:5qmq61DAAOUaW8AUo8xKhh</td>\n",
       "      <td>https://api.spotify.com/v1/tracks/5qmq61DAAOUa...</td>\n",
       "      <td>https://api.spotify.com/v1/audio-analysis/5qmq...</td>\n",
       "      <td>173325.0</td>\n",
       "      <td>4.0</td>\n",
       "    </tr>\n",
       "    <tr>\n",
       "      <td>4</td>\n",
       "      <td>4</td>\n",
       "      <td>223's (feat. 9lokknine)</td>\n",
       "      <td>YNW Melly</td>\n",
       "      <td>0.931</td>\n",
       "      <td>0.502</td>\n",
       "      <td>0.0</td>\n",
       "      <td>-9.311</td>\n",
       "      <td>0.0</td>\n",
       "      <td>0.3530</td>\n",
       "      <td>0.0389</td>\n",
       "      <td>0.000000</td>\n",
       "      <td>0.0912</td>\n",
       "      <td>0.712</td>\n",
       "      <td>94.999</td>\n",
       "      <td>audio_features</td>\n",
       "      <td>4sjiIpEv617LDXaidKioOI</td>\n",
       "      <td>spotify:track:4sjiIpEv617LDXaidKioOI</td>\n",
       "      <td>https://api.spotify.com/v1/tracks/4sjiIpEv617L...</td>\n",
       "      <td>https://api.spotify.com/v1/audio-analysis/4sji...</td>\n",
       "      <td>176640.0</td>\n",
       "      <td>4.0</td>\n",
       "    </tr>\n",
       "    <tr>\n",
       "      <td>...</td>\n",
       "      <td>...</td>\n",
       "      <td>...</td>\n",
       "      <td>...</td>\n",
       "      <td>...</td>\n",
       "      <td>...</td>\n",
       "      <td>...</td>\n",
       "      <td>...</td>\n",
       "      <td>...</td>\n",
       "      <td>...</td>\n",
       "      <td>...</td>\n",
       "      <td>...</td>\n",
       "      <td>...</td>\n",
       "      <td>...</td>\n",
       "      <td>...</td>\n",
       "      <td>...</td>\n",
       "      <td>...</td>\n",
       "      <td>...</td>\n",
       "      <td>...</td>\n",
       "      <td>...</td>\n",
       "      <td>...</td>\n",
       "      <td>...</td>\n",
       "    </tr>\n",
       "    <tr>\n",
       "      <td>3678</td>\n",
       "      <td>3995</td>\n",
       "      <td>Verte Ir</td>\n",
       "      <td>DJ Luian</td>\n",
       "      <td>0.857</td>\n",
       "      <td>0.647</td>\n",
       "      <td>11.0</td>\n",
       "      <td>-4.152</td>\n",
       "      <td>0.0</td>\n",
       "      <td>0.0984</td>\n",
       "      <td>0.3910</td>\n",
       "      <td>0.000001</td>\n",
       "      <td>0.0842</td>\n",
       "      <td>0.553</td>\n",
       "      <td>95.982</td>\n",
       "      <td>audio_features</td>\n",
       "      <td>4lzxJ4jCuFDXXGkE1LmpKR</td>\n",
       "      <td>spotify:track:4lzxJ4jCuFDXXGkE1LmpKR</td>\n",
       "      <td>https://api.spotify.com/v1/tracks/4lzxJ4jCuFDX...</td>\n",
       "      <td>https://api.spotify.com/v1/audio-analysis/4lzx...</td>\n",
       "      <td>267500.0</td>\n",
       "      <td>4.0</td>\n",
       "    </tr>\n",
       "    <tr>\n",
       "      <td>3679</td>\n",
       "      <td>3996</td>\n",
       "      <td>This Feeling</td>\n",
       "      <td>The Chainsmokers</td>\n",
       "      <td>0.575</td>\n",
       "      <td>0.571</td>\n",
       "      <td>1.0</td>\n",
       "      <td>-7.906</td>\n",
       "      <td>1.0</td>\n",
       "      <td>0.0439</td>\n",
       "      <td>0.0558</td>\n",
       "      <td>0.000000</td>\n",
       "      <td>0.0912</td>\n",
       "      <td>0.449</td>\n",
       "      <td>105.049</td>\n",
       "      <td>audio_features</td>\n",
       "      <td>4NBTZtAt1F13VvlSKe6KTl</td>\n",
       "      <td>spotify:track:4NBTZtAt1F13VvlSKe6KTl</td>\n",
       "      <td>https://api.spotify.com/v1/tracks/4NBTZtAt1F13...</td>\n",
       "      <td>https://api.spotify.com/v1/audio-analysis/4NBT...</td>\n",
       "      <td>197947.0</td>\n",
       "      <td>4.0</td>\n",
       "    </tr>\n",
       "    <tr>\n",
       "      <td>3680</td>\n",
       "      <td>3997</td>\n",
       "      <td>Best Part (feat. Daniel Caesar)</td>\n",
       "      <td>H.E.R.</td>\n",
       "      <td>0.473</td>\n",
       "      <td>0.371</td>\n",
       "      <td>4.0</td>\n",
       "      <td>-10.219</td>\n",
       "      <td>0.0</td>\n",
       "      <td>0.0405</td>\n",
       "      <td>0.7950</td>\n",
       "      <td>0.000000</td>\n",
       "      <td>0.1090</td>\n",
       "      <td>0.413</td>\n",
       "      <td>75.208</td>\n",
       "      <td>audio_features</td>\n",
       "      <td>4OBZT9EnhYIV17t4pGw7ig</td>\n",
       "      <td>spotify:track:4OBZT9EnhYIV17t4pGw7ig</td>\n",
       "      <td>https://api.spotify.com/v1/tracks/4OBZT9EnhYIV...</td>\n",
       "      <td>https://api.spotify.com/v1/audio-analysis/4OBZ...</td>\n",
       "      <td>209400.0</td>\n",
       "      <td>4.0</td>\n",
       "    </tr>\n",
       "    <tr>\n",
       "      <td>3681</td>\n",
       "      <td>3998</td>\n",
       "      <td>No Role Modelz</td>\n",
       "      <td>J. Cole</td>\n",
       "      <td>0.696</td>\n",
       "      <td>0.521</td>\n",
       "      <td>10.0</td>\n",
       "      <td>-8.465</td>\n",
       "      <td>0.0</td>\n",
       "      <td>0.3320</td>\n",
       "      <td>0.3020</td>\n",
       "      <td>0.000000</td>\n",
       "      <td>0.0565</td>\n",
       "      <td>0.458</td>\n",
       "      <td>100.000</td>\n",
       "      <td>audio_features</td>\n",
       "      <td>62vpWI1CHwFy7tMIcSStl8</td>\n",
       "      <td>spotify:track:62vpWI1CHwFy7tMIcSStl8</td>\n",
       "      <td>https://api.spotify.com/v1/tracks/62vpWI1CHwFy...</td>\n",
       "      <td>https://api.spotify.com/v1/audio-analysis/62vp...</td>\n",
       "      <td>292987.0</td>\n",
       "      <td>4.0</td>\n",
       "    </tr>\n",
       "    <tr>\n",
       "      <td>3682</td>\n",
       "      <td>3999</td>\n",
       "      <td>The Bones</td>\n",
       "      <td>Maren Morris</td>\n",
       "      <td>0.612</td>\n",
       "      <td>0.570</td>\n",
       "      <td>11.0</td>\n",
       "      <td>-6.642</td>\n",
       "      <td>0.0</td>\n",
       "      <td>0.0347</td>\n",
       "      <td>0.2790</td>\n",
       "      <td>0.000000</td>\n",
       "      <td>0.0963</td>\n",
       "      <td>0.335</td>\n",
       "      <td>77.004</td>\n",
       "      <td>audio_features</td>\n",
       "      <td>3npzogdOEiVsieXmmhBepL</td>\n",
       "      <td>spotify:track:3npzogdOEiVsieXmmhBepL</td>\n",
       "      <td>https://api.spotify.com/v1/tracks/3npzogdOEiVs...</td>\n",
       "      <td>https://api.spotify.com/v1/audio-analysis/3npz...</td>\n",
       "      <td>197293.0</td>\n",
       "      <td>4.0</td>\n",
       "    </tr>\n",
       "  </tbody>\n",
       "</table>\n",
       "<p>3683 rows × 21 columns</p>\n",
       "</div>"
      ],
      "text/plain": [
       "      Unnamed: 0                        Song Name            Artist  \\\n",
       "0              0                          Circles       Post Malone   \n",
       "1              1                           Ransom         Lil Tecca   \n",
       "2              2                              BOP            DaBaby   \n",
       "3              3                      Truth Hurts             Lizzo   \n",
       "4              4          223's (feat. 9lokknine)         YNW Melly   \n",
       "...          ...                              ...               ...   \n",
       "3678        3995                         Verte Ir          DJ Luian   \n",
       "3679        3996                     This Feeling  The Chainsmokers   \n",
       "3680        3997  Best Part (feat. Daniel Caesar)            H.E.R.   \n",
       "3681        3998                   No Role Modelz           J. Cole   \n",
       "3682        3999                        The Bones      Maren Morris   \n",
       "\n",
       "      danceability  energy   key  loudness  mode  speechiness  acousticness  \\\n",
       "0            0.695   0.762   0.0    -3.497   1.0       0.0395        0.1920   \n",
       "1            0.745   0.642   7.0    -6.257   0.0       0.2870        0.0204   \n",
       "2            0.769   0.787  11.0    -3.909   1.0       0.3670        0.1890   \n",
       "3            0.715   0.624   4.0    -3.046   0.0       0.1140        0.1100   \n",
       "4            0.931   0.502   0.0    -9.311   0.0       0.3530        0.0389   \n",
       "...            ...     ...   ...       ...   ...          ...           ...   \n",
       "3678         0.857   0.647  11.0    -4.152   0.0       0.0984        0.3910   \n",
       "3679         0.575   0.571   1.0    -7.906   1.0       0.0439        0.0558   \n",
       "3680         0.473   0.371   4.0   -10.219   0.0       0.0405        0.7950   \n",
       "3681         0.696   0.521  10.0    -8.465   0.0       0.3320        0.3020   \n",
       "3682         0.612   0.570  11.0    -6.642   0.0       0.0347        0.2790   \n",
       "\n",
       "      instrumentalness  liveness  valence    tempo            type  \\\n",
       "0             0.002440    0.0863    0.553  120.042  audio_features   \n",
       "1             0.000000    0.0658    0.226  179.974  audio_features   \n",
       "2             0.000000    0.1290    0.836  126.770  audio_features   \n",
       "3             0.000000    0.1230    0.412  158.087  audio_features   \n",
       "4             0.000000    0.0912    0.712   94.999  audio_features   \n",
       "...                ...       ...      ...      ...             ...   \n",
       "3678          0.000001    0.0842    0.553   95.982  audio_features   \n",
       "3679          0.000000    0.0912    0.449  105.049  audio_features   \n",
       "3680          0.000000    0.1090    0.413   75.208  audio_features   \n",
       "3681          0.000000    0.0565    0.458  100.000  audio_features   \n",
       "3682          0.000000    0.0963    0.335   77.004  audio_features   \n",
       "\n",
       "                          id                                   uri  \\\n",
       "0     21jGcNKet2qwijlDFuPiPb  spotify:track:21jGcNKet2qwijlDFuPiPb   \n",
       "1     1lOe9qE0vR9zwWQAOk6CoO  spotify:track:1lOe9qE0vR9zwWQAOk6CoO   \n",
       "2     6Ozh9Ok6h4Oi1wUSLtBseN  spotify:track:6Ozh9Ok6h4Oi1wUSLtBseN   \n",
       "3     5qmq61DAAOUaW8AUo8xKhh  spotify:track:5qmq61DAAOUaW8AUo8xKhh   \n",
       "4     4sjiIpEv617LDXaidKioOI  spotify:track:4sjiIpEv617LDXaidKioOI   \n",
       "...                      ...                                   ...   \n",
       "3678  4lzxJ4jCuFDXXGkE1LmpKR  spotify:track:4lzxJ4jCuFDXXGkE1LmpKR   \n",
       "3679  4NBTZtAt1F13VvlSKe6KTl  spotify:track:4NBTZtAt1F13VvlSKe6KTl   \n",
       "3680  4OBZT9EnhYIV17t4pGw7ig  spotify:track:4OBZT9EnhYIV17t4pGw7ig   \n",
       "3681  62vpWI1CHwFy7tMIcSStl8  spotify:track:62vpWI1CHwFy7tMIcSStl8   \n",
       "3682  3npzogdOEiVsieXmmhBepL  spotify:track:3npzogdOEiVsieXmmhBepL   \n",
       "\n",
       "                                             track_href  \\\n",
       "0     https://api.spotify.com/v1/tracks/21jGcNKet2qw...   \n",
       "1     https://api.spotify.com/v1/tracks/1lOe9qE0vR9z...   \n",
       "2     https://api.spotify.com/v1/tracks/6Ozh9Ok6h4Oi...   \n",
       "3     https://api.spotify.com/v1/tracks/5qmq61DAAOUa...   \n",
       "4     https://api.spotify.com/v1/tracks/4sjiIpEv617L...   \n",
       "...                                                 ...   \n",
       "3678  https://api.spotify.com/v1/tracks/4lzxJ4jCuFDX...   \n",
       "3679  https://api.spotify.com/v1/tracks/4NBTZtAt1F13...   \n",
       "3680  https://api.spotify.com/v1/tracks/4OBZT9EnhYIV...   \n",
       "3681  https://api.spotify.com/v1/tracks/62vpWI1CHwFy...   \n",
       "3682  https://api.spotify.com/v1/tracks/3npzogdOEiVs...   \n",
       "\n",
       "                                           analysis_url  duration_ms  \\\n",
       "0     https://api.spotify.com/v1/audio-analysis/21jG...     215280.0   \n",
       "1     https://api.spotify.com/v1/audio-analysis/1lOe...     131240.0   \n",
       "2     https://api.spotify.com/v1/audio-analysis/6Ozh...     159715.0   \n",
       "3     https://api.spotify.com/v1/audio-analysis/5qmq...     173325.0   \n",
       "4     https://api.spotify.com/v1/audio-analysis/4sji...     176640.0   \n",
       "...                                                 ...          ...   \n",
       "3678  https://api.spotify.com/v1/audio-analysis/4lzx...     267500.0   \n",
       "3679  https://api.spotify.com/v1/audio-analysis/4NBT...     197947.0   \n",
       "3680  https://api.spotify.com/v1/audio-analysis/4OBZ...     209400.0   \n",
       "3681  https://api.spotify.com/v1/audio-analysis/62vp...     292987.0   \n",
       "3682  https://api.spotify.com/v1/audio-analysis/3npz...     197293.0   \n",
       "\n",
       "      time_signature  \n",
       "0                4.0  \n",
       "1                4.0  \n",
       "2                4.0  \n",
       "3                4.0  \n",
       "4                4.0  \n",
       "...              ...  \n",
       "3678             4.0  \n",
       "3679             4.0  \n",
       "3680             4.0  \n",
       "3681             4.0  \n",
       "3682             4.0  \n",
       "\n",
       "[3683 rows x 21 columns]"
      ]
     },
     "execution_count": 8,
     "metadata": {},
     "output_type": "execute_result"
    }
   ],
   "source": [
    "DF"
   ]
  },
  {
   "cell_type": "markdown",
   "metadata": {},
   "source": [
    "#### Thinking about the data\n",
    "In terms of our data we have multiple columns with a wide range of values. Some have negatives, some are very small and some are very large. What we want to do is to scale all of these down to a similar range of values, somewhere between 0 and 1. Sklearn has some scaling packages that we could use for this.\n",
    "\n",
    "But before we scale any of the values, we need split our data into testing and training data. For example, if you were taking a test and you had the exact questions that were on the test beforehand, then you would be able to ace that test. But does that mean you truly know the material? Or do you just know how to do those questions? This is what we are trying to avoid with our model. We want to give it practice problems that are similar to the test but not the exact questions on it. By splitting the data, we are giving our model a study guide and then giving it the test after it has studied those questions on the study guide."
   ]
  },
  {
   "cell_type": "markdown",
   "metadata": {},
   "source": [
    "Here is how to setup a test train split on our data.\n",
    "\n",
    "Our X values are the questions we are giving our model, then we have the answers be the y values.\n",
    "\n",
    "So we need to chose columns in our data that will be our questions and also the answers to those questions, which are the popularity values."
   ]
  },
  {
   "cell_type": "code",
   "execution_count": null,
   "metadata": {},
   "outputs": [],
   "source": [
    "columns = ['danceability','energy','key','loudness','mode','speechiness','acousticness','instrumentalness','liveness','valence','tempo']"
   ]
  },
  {
   "cell_type": "code",
   "execution_count": 1,
   "metadata": {},
   "outputs": [
    {
     "ename": "NameError",
     "evalue": "name 'DF' is not defined",
     "output_type": "error",
     "traceback": [
      "\u001b[0;31m---------------------------------------------------------------------------\u001b[0m",
      "\u001b[0;31mNameError\u001b[0m                                 Traceback (most recent call last)",
      "\u001b[0;32m<ipython-input-1-70694578f486>\u001b[0m in \u001b[0;36m<module>\u001b[0;34m\u001b[0m\n\u001b[1;32m      1\u001b[0m \u001b[0;32mfrom\u001b[0m \u001b[0msklearn\u001b[0m\u001b[0;34m.\u001b[0m\u001b[0mmodel_selection\u001b[0m \u001b[0;32mimport\u001b[0m \u001b[0mtrain_test_split\u001b[0m\u001b[0;34m\u001b[0m\u001b[0;34m\u001b[0m\u001b[0m\n\u001b[0;32m----> 2\u001b[0;31m \u001b[0mX\u001b[0m \u001b[0;34m=\u001b[0m \u001b[0mDF\u001b[0m\u001b[0;34m[\u001b[0m\u001b[0mcolumns\u001b[0m\u001b[0;34m]\u001b[0m\u001b[0;34m\u001b[0m\u001b[0;34m\u001b[0m\u001b[0m\n\u001b[0m\u001b[1;32m      3\u001b[0m \u001b[0my\u001b[0m \u001b[0;34m=\u001b[0m \u001b[0mDF\u001b[0m\u001b[0;34m[\u001b[0m\u001b[0;34m'Popularity'\u001b[0m\u001b[0;34m]\u001b[0m\u001b[0;34m\u001b[0m\u001b[0;34m\u001b[0m\u001b[0m\n\u001b[1;32m      4\u001b[0m \u001b[0mX_train\u001b[0m\u001b[0;34m,\u001b[0m \u001b[0mX_test\u001b[0m\u001b[0;34m,\u001b[0m \u001b[0my_train\u001b[0m\u001b[0;34m,\u001b[0m \u001b[0my_test\u001b[0m \u001b[0;34m=\u001b[0m \u001b[0mtrain_test_split\u001b[0m\u001b[0;34m(\u001b[0m\u001b[0mX\u001b[0m\u001b[0;34m,\u001b[0m \u001b[0my\u001b[0m\u001b[0;34m,\u001b[0m \u001b[0mtest_size\u001b[0m\u001b[0;34m=\u001b[0m\u001b[0;36m0.33\u001b[0m\u001b[0;34m,\u001b[0m \u001b[0mrandom_state\u001b[0m\u001b[0;34m=\u001b[0m\u001b[0;36m42\u001b[0m\u001b[0;34m)\u001b[0m\u001b[0;34m\u001b[0m\u001b[0;34m\u001b[0m\u001b[0m\n",
      "\u001b[0;31mNameError\u001b[0m: name 'DF' is not defined"
     ]
    }
   ],
   "source": [
    "from sklearn.model_selection import train_test_split\n",
    "X = DF[columns]\n",
    "y = DF['Popularity']\n",
    "X_train, X_test, y_train, y_test = train_test_split(X, y, test_size=0.33, random_state=42)"
   ]
  },
  {
   "cell_type": "code",
   "execution_count": 4,
   "metadata": {},
   "outputs": [],
   "source": [
    "from sklearn.preprocessing import MinMaxScaler"
   ]
  },
  {
   "cell_type": "code",
   "execution_count": 5,
   "metadata": {},
   "outputs": [
    {
     "ename": "NameError",
     "evalue": "name 'X_train' is not defined",
     "output_type": "error",
     "traceback": [
      "\u001b[0;31m---------------------------------------------------------------------------\u001b[0m",
      "\u001b[0;31mNameError\u001b[0m                                 Traceback (most recent call last)",
      "\u001b[0;32m<ipython-input-5-7d82baa25564>\u001b[0m in \u001b[0;36m<module>\u001b[0;34m\u001b[0m\n\u001b[1;32m      1\u001b[0m \u001b[0mscaler\u001b[0m \u001b[0;34m=\u001b[0m \u001b[0mMinMaxScaler\u001b[0m\u001b[0;34m(\u001b[0m\u001b[0;34m)\u001b[0m\u001b[0;34m\u001b[0m\u001b[0;34m\u001b[0m\u001b[0m\n\u001b[0;32m----> 2\u001b[0;31m \u001b[0mprint\u001b[0m\u001b[0;34m(\u001b[0m\u001b[0mscaler\u001b[0m\u001b[0;34m.\u001b[0m\u001b[0mfit\u001b[0m\u001b[0;34m(\u001b[0m\u001b[0mX_train\u001b[0m\u001b[0;34m)\u001b[0m\u001b[0;34m)\u001b[0m\u001b[0;34m\u001b[0m\u001b[0;34m\u001b[0m\u001b[0m\n\u001b[0m",
      "\u001b[0;31mNameError\u001b[0m: name 'X_train' is not defined"
     ]
    }
   ],
   "source": [
    "scaler = MinMaxScaler()\n",
    "print(scaler.fit(X_train))"
   ]
  }
 ],
 "metadata": {
  "kernelspec": {
   "display_name": "Python 3",
   "language": "python",
   "name": "python3"
  },
  "language_info": {
   "codemirror_mode": {
    "name": "ipython",
    "version": 3
   },
   "file_extension": ".py",
   "mimetype": "text/x-python",
   "name": "python",
   "nbconvert_exporter": "python",
   "pygments_lexer": "ipython3",
   "version": "3.7.4"
  }
 },
 "nbformat": 4,
 "nbformat_minor": 2
}
