{
 "cells": [
  {
   "cell_type": "markdown",
   "metadata": {},
   "source": [
    "# Spotify Project"
   ]
  },
  {
   "cell_type": "markdown",
   "metadata": {},
   "source": [
    "## Setup\n",
    "#### The setup portion of this project deals with the following concepts:\n",
    "<li> Api Calls with Python </li>\n",
    "<li> Data Manipulation with Python </li>\n",
    "<li> Web Crawling with Selenium </li>\n",
    "<li> Pandas DataFrame Generation </li>"
   ]
  },
  {
   "cell_type": "code",
   "execution_count": null,
   "metadata": {},
   "outputs": [],
   "source": [
    "import requests as rq # tool to make api calls\n",
    "import pandas as pd # data processing\n",
    "import base64 # to encoded the credentials for api calls\n",
    "import json # for responses to api calls\n",
    "from urllib.parse import quote # for url encoding\n",
    "from datetime import datetime, timedelta # constructing urls"
   ]
  },
  {
   "cell_type": "code",
   "execution_count": null,
   "metadata": {},
   "outputs": [],
   "source": [
    "url = 'https://accounts.spotify.com/api/token' # api call to recieve token\n",
    "clientID = '67158a9f3e804254bfe2e64fb370b549' # app id that is created with spotify \n",
    "clientS = 'c875dc2bdf7d4cd2ae696b7ff434b502' # secret for app that is registered\n",
    "\n",
    "# need to get a token from spotify to validate our api calls\n",
    "# much easier to create a function to do this, since we may be \n",
    "# using this often\n",
    "def get_token(clientID,clientS,url):"
   ]
  },
  {
   "cell_type": "code",
   "execution_count": null,
   "metadata": {},
   "outputs": [],
   "source": [
    "token = get_token(clientID,clientS,url)\n",
    "token"
   ]
  },
  {
   "cell_type": "code",
   "execution_count": null,
   "metadata": {},
   "outputs": [],
   "source": [
    "# In order to get song information, we need to obtain a song id\n",
    "# this is only done by using spotify's search api, let's create\n",
    "# a function to search a song with spotify's api and return the id\n",
    "# of that song\n",
    "# 'https://api.spotify.com/v1/search?q={}%20artist:{}&type=track'(api endpoint that we are filling with variables)\n",
    "def get_song_id(songName,artist,token):"
   ]
  },
  {
   "cell_type": "code",
   "execution_count": null,
   "metadata": {},
   "outputs": [],
   "source": [
    "songID = get_song_id(\"Circles\",\"Post Malone\",token)\n",
    "songID"
   ]
  },
  {
   "cell_type": "markdown",
   "metadata": {},
   "source": [
    "### Next Steps\n",
    "We now have a way to use spotify's api and find id of songs based off of their names. This is a great place for us because now we just need to get a list of popular songs. To do that, we will be using a good friend of ours SELENIUM!!!"
   ]
  },
  {
   "cell_type": "code",
   "execution_count": 1,
   "metadata": {},
   "outputs": [],
   "source": [
    "from selenium import webdriver\n",
    "import chromedriver_binary"
   ]
  },
  {
   "cell_type": "markdown",
   "metadata": {},
   "source": [
    "https://spotifycharts.com/regional/us/weekly/2019-09-20--2019-09-27"
   ]
  },
  {
   "cell_type": "code",
   "execution_count": null,
   "metadata": {},
   "outputs": [],
   "source": [
    "# we need a way to retrieve the song information off of the page\n",
    "# we can use a function to pass in a list of web elements and extract\n",
    "# their necessary data\n",
    "# this function will be used within the function below\n",
    "def get_all_songs(webEL):"
   ]
  },
  {
   "cell_type": "code",
   "execution_count": null,
   "metadata": {},
   "outputs": [],
   "source": [
    "# With the function above, we can get all song information on a single\n",
    "# page. But, we are going to need much more songs in order to train a \n",
    "# model on it, so this function iterates through mulitple pages and\n",
    "# calls the above function to extract the songs. Once the songs are \n",
    "# extracted, we navigate to a new page and repeat the process. It returns \n",
    "# a list of all song names and artists\n",
    "def get_page_songs():"
   ]
  },
  {
   "cell_type": "markdown",
   "metadata": {},
   "source": [
    "https://spotifycharts.com/regional/us/weekly/2019-09-20--2019-09-27\n",
    "\n",
    "The trailing date string is what the function below creates ^^"
   ]
  },
  {
   "cell_type": "code",
   "execution_count": null,
   "metadata": {},
   "outputs": [],
   "source": [
    "# this function generates a string for the url and returns the\n",
    "# start date so we can use this function in a loop\n",
    "def construct_date_string(endDate):\n",
    "    startDate = endDate - timedelta(days=7)\n",
    "    endString = datetime.strftime(endDate,\"%Y-%m-%d\")\n",
    "    startString = datetime.strftime(startDate,\"%Y-%m-%d\")\n",
    "    finalString = startString + '--' + endString\n",
    "    return(startDate,finalString)"
   ]
  },
  {
   "cell_type": "code",
   "execution_count": null,
   "metadata": {},
   "outputs": [],
   "source": [
    "# After all the song names and artists are saved into a list\n",
    "# we can call another api endpoint to retrieve information about\n",
    "# the song(more features to it). We can use our \"get_song_id\" function \n",
    "# to get the songs id that we will need for calling the api\n",
    "def build_data(all_songs,token):"
   ]
  },
  {
   "cell_type": "code",
   "execution_count": null,
   "metadata": {},
   "outputs": [],
   "source": [
    "all_songs = get_page_songs()"
   ]
  },
  {
   "cell_type": "code",
   "execution_count": null,
   "metadata": {},
   "outputs": [],
   "source": [
    "DF = build_data(all_songs[:10],token) # doing the first 10 since we have around 4000 and it would take too long"
   ]
  }
 ],
 "metadata": {
  "kernelspec": {
   "display_name": "Python 3",
   "language": "python",
   "name": "python3"
  },
  "language_info": {
   "codemirror_mode": {
    "name": "ipython",
    "version": 3
   },
   "file_extension": ".py",
   "mimetype": "text/x-python",
   "name": "python",
   "nbconvert_exporter": "python",
   "pygments_lexer": "ipython3",
   "version": "3.7.4"
  }
 },
 "nbformat": 4,
 "nbformat_minor": 2
}
